{
 "cells": [
  {
   "cell_type": "markdown",
   "metadata": {},
   "source": [
    "**MACHINE LEARNING PROJECT**"
   ]
  },
  {
   "cell_type": "code",
   "execution_count": 1,
   "metadata": {},
   "outputs": [],
   "source": [
    "import numpy as np\n",
    "import pandas as pd"
   ]
  },
  {
   "cell_type": "code",
   "execution_count": null,
   "metadata": {},
   "outputs": [],
   "source": [
    "np.random.seed(30)\n",
    "samples = 3000"
   ]
  },
  {
   "cell_type": "markdown",
   "metadata": {},
   "source": [
    "**ALTITUDE** \n",
    "\n",
    "Here the +5000 value is used to handle the zero mean position of the exponential graph nature, it would be around 0.2 or close to zero which isn't any realistic altitude for any aviation model. So, the +5000 would ensures that we avoid clustering about the zero."
   ]
  },
  {
   "cell_type": "code",
   "execution_count": null,
   "metadata": {},
   "outputs": [],
   "source": [
    "altitude = np.round(np.random.exponential(10000, samples) + 5000, 2)\n",
    "altitude = np.clip(altitude, 0, 50000) \n",
    "\n",
    "print(\"The List of altitude generates:\\n\", altitude)\n",
    "print(altitude.shape)"
   ]
  },
  {
   "cell_type": "markdown",
   "metadata": {},
   "source": [
    "**AIRSPEED**"
   ]
  },
  {
   "cell_type": "code",
   "execution_count": null,
   "metadata": {},
   "outputs": [],
   "source": [
    "airspeed = np.where(\n",
    "  np.random.rand(samples) > 0.5,\n",
    "  np.round(np.random.normal(400, 100, samples), 2), # Dog Fight Mode \n",
    "  np.round(np.random.normal(700, 150, samples), 2) # Escape Mode      \n",
    "   )\n",
    "\n",
    "airspeed = np.clip(airspeed, 100, 1200)"
   ]
  },
  {
   "cell_type": "markdown",
   "metadata": {},
   "source": [
    "**EJECTION TYPE and POSTURE OF THE PILOT**\n",
    "\n",
    "Zero-Zero Ejection type typically means the pilot can eject safely event at 0.Knots speed and 0.ft altitude, which are equiped in modern day aircrafts.\n",
    "\n",
    "A Conventional Ejection type means, the aircraft has to be at a minumum altitude and a minimum speed to eject safely, which was in the case of old aircraft."
   ]
  },
  {
   "cell_type": "code",
   "execution_count": null,
   "metadata": {},
   "outputs": [],
   "source": [
    "ejection_type = np.random.choice([\"Zero-Zero\", \"Conventional\"], samples, p = [0.7, 0.3])"
   ]
  },
  {
   "cell_type": "markdown",
   "metadata": {},
   "source": [
    "**PILOT POSTURE**\n",
    "\n",
    "It is very important for the pilot to be at the seat at a proper position so that he ejects safely taking the whole multiple of G-force in the spine. Even Slight amount of slouch could increase the risk of spine injury.\n",
    "\n",
    "So, we take optimal Position to be 80% and Slouched position to be at 20%."
   ]
  },
  {
   "cell_type": "code",
   "execution_count": null,
   "metadata": {},
   "outputs": [],
   "source": [
    "pilot_posture = np.random.choice([\"Optimal\", \"Slouched\"], samples, p = [0.8, 0.2] )"
   ]
  },
  {
   "cell_type": "markdown",
   "metadata": {},
   "source": [
    "**ENVIRONMENTAL CONDITIONS** \n",
    "\n",
    "Another major concern is Environmental Conditions:\n",
    "1) Time of Day(Day/Night)\n",
    "2) Weather(Clear/Rain/Strom)\n",
    "3) Terrain(Land/Water/Mountain)\n"
   ]
  },
  {
   "cell_type": "code",
   "execution_count": null,
   "metadata": {},
   "outputs": [],
   "source": [
    "time_of_Day = np.random.choice([\"Day\", \"Night\"], samples, p = [0.6, 0.4])\n",
    "\n",
    "weather = np.random.choice([\"Clear\", \"Rain\", \"Storm\"], samples, p = [0.7, 0.2, 0.1])\n",
    "\n",
    "terrain = np.random.choice([\"Land\", \"Water\", \"Mountain\"], samples, p = [0.6, 0.3, 0.1])"
   ]
  },
  {
   "cell_type": "markdown",
   "metadata": {},
   "source": [
    "**TECHNICAL FACTORS**\n",
    "\n",
    "An Important aspect for estimating this success, includes Technical fcators like:\n",
    "\n",
    "1) System Malfunction\n",
    "2) Aicraft Altitude\n",
    "3) G-Force\n",
    "\n",
    "**G-Force:** In the context of aerodynamics and aviation, g-force (or gravitational force) measures acceleration, specifically the force felt as weight during flight maneuvers, and is expressed as a multiple of Earth's gravity (1g); where g is 9.8 m/s^2\n"
   ]
  },
  {
   "cell_type": "code",
   "execution_count": null,
   "metadata": {},
   "outputs": [],
   "source": [
    "system_malfunction = np.random.choice([0, 1], samples, p = [0.9, 0.1])\n",
    "\n",
    "aircraft_altitude = np.random.choice([\"Stable\", \"Diving\"])\n",
    "\n",
    "g_force = np.round(np.random.weibull(1.5, size=samples) * 10 + 5, 2)\n",
    "g_force = np.clip(g_force, 5, 20)"
   ]
  },
  {
   "cell_type": "markdown",
   "metadata": {},
   "source": [
    "**SUCCESSFUL EJECTION PROBABILITY**"
   ]
  },
  {
   "cell_type": "code",
   "execution_count": null,
   "metadata": {},
   "outputs": [],
   "source": [
    "success_prob = (\n",
    "  1.5 * (ejection_type == \"Zero-Zero\") +\n",
    "  1.0 * (pilot_posture == \"Optimal\") +\n",
    "  0.8 * (aircraft_altitude == \"Stable\") +\n",
    "  1.2 * (system_malfunction == 0) -\n",
    "  0.005 * altitude / 1000 - # Scaling of the altitude is done to take in kiloft which would allow the calculation to be meaningfull\n",
    "  0.002 * airspeed -\n",
    "  0.02 * g_force +\n",
    "  np.random.normal(0, 0.05, samples)\n",
    ")\n",
    "\n",
    "ejection_success = (success_prob > 0.5).astype(int)"
   ]
  },
  {
   "cell_type": "markdown",
   "metadata": {},
   "source": [
    "**INJURY LEVEL**"
   ]
  },
  {
   "cell_type": "code",
   "execution_count": null,
   "metadata": {},
   "outputs": [],
   "source": [
    "injury_level = np.where(\n",
    "  (ejection_success == 0) & (g_force > 15), \"Fatal\",\n",
    "  np.where((g_force > 9) & (g_force < 15), \"severe\", \n",
    "  np.where(g_force < 9, \"Minor\", \"None\")\n",
    "  ) \n",
    ")"
   ]
  },
  {
   "cell_type": "code",
   "execution_count": null,
   "metadata": {},
   "outputs": [],
   "source": [
    "ejection_success_df = pd.DataFrame({\n",
    "  \"Altitude_ft\": altitude,\n",
    "  \"Airspeed_knots\": airspeed,\n",
    "  \"Ejection_Type\": ejection_type,\n",
    "  \"Pilot_Posture\": pilot_posture,\n",
    "  \"Time_of_Day\": time_of_Day,\n",
    "  \"Weather\": weather, \n",
    "  \"Terrain\": terrain, \n",
    "  \"System_Malfunction\": system_malfunction,\n",
    "  \"Aircraft_Altitude\": aircraft_altitude,\n",
    "  \"G_Force\": g_force,\n",
    "  \"Ejection_Success\": ejection_success,\n",
    "  \"Injury_Level\": injury_level     \n",
    "})\n",
    "\n",
    "ejection_success_df"
   ]
  },
  {
   "cell_type": "code",
   "execution_count": null,
   "metadata": {},
   "outputs": [],
   "source": [
    "ejection_success_df.Ejection_Success.value_counts()"
   ]
  },
  {
   "cell_type": "code",
   "execution_count": null,
   "metadata": {},
   "outputs": [],
   "source": [
    "ejection_success_df.to_csv(\"Fighter_Pilot_Ejection_Success.csv\", index=False)"
   ]
  }
 ],
 "metadata": {
  "kernelspec": {
   "display_name": "Python 3",
   "language": "python",
   "name": "python3"
  },
  "language_info": {
   "codemirror_mode": {
    "name": "ipython",
    "version": 3
   },
   "file_extension": ".py",
   "mimetype": "text/x-python",
   "name": "python",
   "nbconvert_exporter": "python",
   "pygments_lexer": "ipython3",
   "version": "3.13.2"
  }
 },
 "nbformat": 4,
 "nbformat_minor": 4
}
