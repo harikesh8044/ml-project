{
 "cells": [
  {
   "cell_type": "code",
   "execution_count": null,
   "metadata": {},
   "outputs": [],
   "source": [
    "import pandas as pd\n",
    "import numpy as np"
   ]
  },
  {
   "cell_type": "code",
   "execution_count": null,
   "metadata": {},
   "outputs": [],
   "source": [
    "ejection_df = pd.read_csv('Fighter_Pilot_Ejection_Success.csv')\n",
    "ejection_df"
   ]
  },
  {
   "cell_type": "markdown",
   "metadata": {},
   "source": [
    "Some of the categorical variables need to be converted into Numerical form for our evaluation purpose "
   ]
  },
  {
   "cell_type": "code",
   "execution_count": null,
   "metadata": {},
   "outputs": [],
   "source": [
    "ejection_df[\"Ejection_Type\"] = ejection_df[\"Ejection_Type\"].map({\"Zero-Zero\": 0, \"Conventional\": 1})\n",
    "\n",
    "ejection_df[\"Ejection_Type\"]\n",
    "\n",
    "ejection_df[\"Pilot_Posture\"] = ejection_df[\"Pilot_Posture\"].map({\"Optimal\": 1, \"Slouched\": 0})\n",
    "\n",
    "ejection_df[\"Pilot_Posture\"]"
   ]
  },
  {
   "cell_type": "markdown",
   "metadata": {},
   "source": [
    "Features of X and Y"
   ]
  },
  {
   "cell_type": "code",
   "execution_count": null,
   "metadata": {},
   "outputs": [],
   "source": [
    "X = ejection_df[[\"Altitude\", \"Airspeed\", \"G_Force\", \"Ejection_Type\", \"Pilot_Posture\"]].values\n",
    "\n",
    "Y = ejection_df[\"Ejection_Success\"].values.reshape(-1, 1)\n",
    "\n",
    "X = (X - np.mean(X, axis=0)) / np.std(X, axis=0)"
   ]
  }
 ],
 "metadata": {
  "kernelspec": {
   "display_name": "Python 3 (ipykernel)",
   "language": "python",
   "name": "python3"
  },
  "language_info": {
   "codemirror_mode": {
    "name": "ipython",
    "version": 3
   },
   "file_extension": ".py",
   "mimetype": "text/x-python",
   "name": "python",
   "nbconvert_exporter": "python",
   "pygments_lexer": "ipython3",
   "version": "3.13.2"
  }
 },
 "nbformat": 4,
 "nbformat_minor": 4
}
